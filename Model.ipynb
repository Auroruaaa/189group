{
 "cells": [
  {
   "cell_type": "code",
   "execution_count": 1,
   "metadata": {},
   "outputs": [],
   "source": [
    "import os\n",
    "import re\n",
    "import torch\n",
    "import torch.nn as nn\n",
    "import torch.nn.functional as F\n",
    "import numpy as np\n",
    "import mne\n",
    "from torch.utils.data import Dataset, DataLoader, random_split"
   ]
  },
  {
   "cell_type": "code",
   "execution_count": 2,
   "metadata": {},
   "outputs": [],
   "source": [
    "device = torch.device('cuda' if torch.cuda.is_available() else 'cpu')\n",
    "\n",
    "task_mapping = {\n",
    "    # 1: \"baseline\", 2: \"baseline\",\n",
    "    3: \"task1\", 4: \"task2\", 5: \"task3\", 6: \"task4\",\n",
    "    7: \"task1\", 8: \"task2\", 9: \"task3\", 10: \"task4\",\n",
    "    11: \"task1\", 12: \"task2\", 13: \"task3\", 14: \"task4\"\n",
    "}"
   ]
  },
  {
   "cell_type": "code",
   "execution_count": 3,
   "metadata": {},
   "outputs": [],
   "source": [
    "def make_sliding_epochs_with_offset(raw, duration, overlap, offset_sec=0.0):\n",
    "    raw_offset = raw.copy()\n",
    "    raw_offset.crop(tmin=offset_sec, tmax=None)\n",
    "    epochs = mne.make_fixed_length_epochs(\n",
    "        raw_offset, duration=duration, overlap=overlap, preload=True, verbose=False\n",
    "    )\n",
    "    return epochs\n",
    "\n",
    "def load_eeg_data(file_path, baseline_files=None):\n",
    "    raw = mne.io.read_raw_edf(file_path, preload=True, verbose=False)\n",
    "    raw.pick(['Oz..', 'T7..', 'Cz..'])\n",
    "    raw.filter(1., 40., fir_design='firwin', verbose=False)\n",
    "\n",
    "    T_sec = 1\n",
    "    stride_sec = 4 / 160\n",
    "    offset_sec = 8 / 160\n",
    "    overlap = T_sec - stride_sec\n",
    "\n",
    "    epochs1 = make_sliding_epochs_with_offset(raw, duration=T_sec, overlap=overlap, offset_sec=0.0)\n",
    "    epochs2 = make_sliding_epochs_with_offset(raw, duration=T_sec, overlap=overlap, offset_sec=offset_sec)\n",
    "\n",
    "    epochs = mne.concatenate_epochs([epochs1, epochs2])\n",
    "\n",
    "    if baseline_files:\n",
    "        baseline_epochs = []\n",
    "        for baseline_file in baseline_files:\n",
    "            baseline_raw = mne.io.read_raw_edf(baseline_file, preload=True, verbose=False)\n",
    "            baseline_raw.pick(['Oz..', 'T7..', 'Cz..'])\n",
    "            baseline_epochs.append(make_sliding_epochs_with_offset(baseline_raw, duration=T_sec, overlap=overlap))\n",
    "\n",
    "        baseline_data = np.concatenate([e.get_data() for e in baseline_epochs], axis=0)\n",
    "        baseline_mean = np.mean(baseline_data, axis=0)\n",
    "\n",
    "        epochs._data -= baseline_mean\n",
    "\n",
    "    return epochs\n"
   ]
  },
  {
   "cell_type": "code",
   "execution_count": 4,
   "metadata": {},
   "outputs": [],
   "source": [
    "root_dir = \"./files/\"\n",
    "\n",
    "data_dict = {}\n",
    "\n",
    "\n",
    "i = 0\n",
    "\n",
    "for subject in sorted(os.listdir(root_dir)):\n",
    "    subject_path = os.path.join(root_dir, subject)\n",
    "    \n",
    "    if os.path.isdir(subject_path) and re.match(r\"S\\d{3}\", subject):\n",
    "        # control the number of persons\n",
    "        if(i < 5):\n",
    "            i+=1\n",
    "        else:\n",
    "            break\n",
    "\n",
    "        edf_files = sorted([f for f in os.listdir(subject_path) if f.endswith(\".edf\")])\n",
    "\n",
    "        baseline_files = [os.path.join(subject_path, f) for f in edf_files if re.match(rf\"{subject}R0[12]\\.edf\", f)]\n",
    "\n",
    "        for edf_file in edf_files:\n",
    "            match = re.match(r\"(S\\d{3})R(\\d{2})\\.edf\", edf_file)\n",
    "            if match:\n",
    "                subject_id, session_id = match.groups()\n",
    "                session_id = int(session_id)\n",
    "\n",
    "                if session_id in task_mapping:\n",
    "                    task = task_mapping[session_id]\n",
    "                    full_path = os.path.join(subject_path, edf_file)\n",
    "\n",
    "                    if subject_id not in data_dict:\n",
    "                        data_dict[subject_id] = {task: []}\n",
    "                    if task not in data_dict[subject_id]:\n",
    "                        data_dict[subject_id][task] = []\n",
    "                    \n",
    "                    data_dict[subject_id][task].append((full_path, baseline_files))\n"
   ]
  },
  {
   "cell_type": "code",
   "execution_count": 5,
   "metadata": {},
   "outputs": [
    {
     "data": {
      "text/plain": [
       "{'S001': {'task1': [('./files/S001/S001R03.edf',\n",
       "    ['./files/S001/S001R01.edf', './files/S001/S001R02.edf']),\n",
       "   ('./files/S001/S001R07.edf',\n",
       "    ['./files/S001/S001R01.edf', './files/S001/S001R02.edf']),\n",
       "   ('./files/S001/S001R11.edf',\n",
       "    ['./files/S001/S001R01.edf', './files/S001/S001R02.edf'])],\n",
       "  'task2': [('./files/S001/S001R04.edf',\n",
       "    ['./files/S001/S001R01.edf', './files/S001/S001R02.edf']),\n",
       "   ('./files/S001/S001R08.edf',\n",
       "    ['./files/S001/S001R01.edf', './files/S001/S001R02.edf']),\n",
       "   ('./files/S001/S001R12.edf',\n",
       "    ['./files/S001/S001R01.edf', './files/S001/S001R02.edf'])],\n",
       "  'task3': [('./files/S001/S001R05.edf',\n",
       "    ['./files/S001/S001R01.edf', './files/S001/S001R02.edf']),\n",
       "   ('./files/S001/S001R09.edf',\n",
       "    ['./files/S001/S001R01.edf', './files/S001/S001R02.edf']),\n",
       "   ('./files/S001/S001R13.edf',\n",
       "    ['./files/S001/S001R01.edf', './files/S001/S001R02.edf'])],\n",
       "  'task4': [('./files/S001/S001R06.edf',\n",
       "    ['./files/S001/S001R01.edf', './files/S001/S001R02.edf']),\n",
       "   ('./files/S001/S001R10.edf',\n",
       "    ['./files/S001/S001R01.edf', './files/S001/S001R02.edf']),\n",
       "   ('./files/S001/S001R14.edf',\n",
       "    ['./files/S001/S001R01.edf', './files/S001/S001R02.edf'])]},\n",
       " 'S002': {'task1': [('./files/S002/S002R03.edf',\n",
       "    ['./files/S002/S002R01.edf', './files/S002/S002R02.edf']),\n",
       "   ('./files/S002/S002R07.edf',\n",
       "    ['./files/S002/S002R01.edf', './files/S002/S002R02.edf']),\n",
       "   ('./files/S002/S002R11.edf',\n",
       "    ['./files/S002/S002R01.edf', './files/S002/S002R02.edf'])],\n",
       "  'task2': [('./files/S002/S002R04.edf',\n",
       "    ['./files/S002/S002R01.edf', './files/S002/S002R02.edf']),\n",
       "   ('./files/S002/S002R08.edf',\n",
       "    ['./files/S002/S002R01.edf', './files/S002/S002R02.edf']),\n",
       "   ('./files/S002/S002R12.edf',\n",
       "    ['./files/S002/S002R01.edf', './files/S002/S002R02.edf'])],\n",
       "  'task3': [('./files/S002/S002R05.edf',\n",
       "    ['./files/S002/S002R01.edf', './files/S002/S002R02.edf']),\n",
       "   ('./files/S002/S002R09.edf',\n",
       "    ['./files/S002/S002R01.edf', './files/S002/S002R02.edf']),\n",
       "   ('./files/S002/S002R13.edf',\n",
       "    ['./files/S002/S002R01.edf', './files/S002/S002R02.edf'])],\n",
       "  'task4': [('./files/S002/S002R06.edf',\n",
       "    ['./files/S002/S002R01.edf', './files/S002/S002R02.edf']),\n",
       "   ('./files/S002/S002R10.edf',\n",
       "    ['./files/S002/S002R01.edf', './files/S002/S002R02.edf']),\n",
       "   ('./files/S002/S002R14.edf',\n",
       "    ['./files/S002/S002R01.edf', './files/S002/S002R02.edf'])]},\n",
       " 'S003': {'task1': [('./files/S003/S003R03.edf',\n",
       "    ['./files/S003/S003R01.edf', './files/S003/S003R02.edf']),\n",
       "   ('./files/S003/S003R07.edf',\n",
       "    ['./files/S003/S003R01.edf', './files/S003/S003R02.edf']),\n",
       "   ('./files/S003/S003R11.edf',\n",
       "    ['./files/S003/S003R01.edf', './files/S003/S003R02.edf'])],\n",
       "  'task2': [('./files/S003/S003R04.edf',\n",
       "    ['./files/S003/S003R01.edf', './files/S003/S003R02.edf']),\n",
       "   ('./files/S003/S003R08.edf',\n",
       "    ['./files/S003/S003R01.edf', './files/S003/S003R02.edf']),\n",
       "   ('./files/S003/S003R12.edf',\n",
       "    ['./files/S003/S003R01.edf', './files/S003/S003R02.edf'])],\n",
       "  'task3': [('./files/S003/S003R05.edf',\n",
       "    ['./files/S003/S003R01.edf', './files/S003/S003R02.edf']),\n",
       "   ('./files/S003/S003R09.edf',\n",
       "    ['./files/S003/S003R01.edf', './files/S003/S003R02.edf']),\n",
       "   ('./files/S003/S003R13.edf',\n",
       "    ['./files/S003/S003R01.edf', './files/S003/S003R02.edf'])],\n",
       "  'task4': [('./files/S003/S003R06.edf',\n",
       "    ['./files/S003/S003R01.edf', './files/S003/S003R02.edf']),\n",
       "   ('./files/S003/S003R10.edf',\n",
       "    ['./files/S003/S003R01.edf', './files/S003/S003R02.edf']),\n",
       "   ('./files/S003/S003R14.edf',\n",
       "    ['./files/S003/S003R01.edf', './files/S003/S003R02.edf'])]},\n",
       " 'S004': {'task1': [('./files/S004/S004R03.edf',\n",
       "    ['./files/S004/S004R01.edf', './files/S004/S004R02.edf']),\n",
       "   ('./files/S004/S004R07.edf',\n",
       "    ['./files/S004/S004R01.edf', './files/S004/S004R02.edf']),\n",
       "   ('./files/S004/S004R11.edf',\n",
       "    ['./files/S004/S004R01.edf', './files/S004/S004R02.edf'])],\n",
       "  'task2': [('./files/S004/S004R04.edf',\n",
       "    ['./files/S004/S004R01.edf', './files/S004/S004R02.edf']),\n",
       "   ('./files/S004/S004R08.edf',\n",
       "    ['./files/S004/S004R01.edf', './files/S004/S004R02.edf']),\n",
       "   ('./files/S004/S004R12.edf',\n",
       "    ['./files/S004/S004R01.edf', './files/S004/S004R02.edf'])],\n",
       "  'task3': [('./files/S004/S004R05.edf',\n",
       "    ['./files/S004/S004R01.edf', './files/S004/S004R02.edf']),\n",
       "   ('./files/S004/S004R09.edf',\n",
       "    ['./files/S004/S004R01.edf', './files/S004/S004R02.edf']),\n",
       "   ('./files/S004/S004R13.edf',\n",
       "    ['./files/S004/S004R01.edf', './files/S004/S004R02.edf'])],\n",
       "  'task4': [('./files/S004/S004R06.edf',\n",
       "    ['./files/S004/S004R01.edf', './files/S004/S004R02.edf']),\n",
       "   ('./files/S004/S004R10.edf',\n",
       "    ['./files/S004/S004R01.edf', './files/S004/S004R02.edf']),\n",
       "   ('./files/S004/S004R14.edf',\n",
       "    ['./files/S004/S004R01.edf', './files/S004/S004R02.edf'])]},\n",
       " 'S005': {'task1': [('./files/S005/S005R03.edf',\n",
       "    ['./files/S005/S005R01.edf', './files/S005/S005R02.edf']),\n",
       "   ('./files/S005/S005R07.edf',\n",
       "    ['./files/S005/S005R01.edf', './files/S005/S005R02.edf']),\n",
       "   ('./files/S005/S005R11.edf',\n",
       "    ['./files/S005/S005R01.edf', './files/S005/S005R02.edf'])],\n",
       "  'task2': [('./files/S005/S005R04.edf',\n",
       "    ['./files/S005/S005R01.edf', './files/S005/S005R02.edf']),\n",
       "   ('./files/S005/S005R08.edf',\n",
       "    ['./files/S005/S005R01.edf', './files/S005/S005R02.edf']),\n",
       "   ('./files/S005/S005R12.edf',\n",
       "    ['./files/S005/S005R01.edf', './files/S005/S005R02.edf'])],\n",
       "  'task3': [('./files/S005/S005R05.edf',\n",
       "    ['./files/S005/S005R01.edf', './files/S005/S005R02.edf']),\n",
       "   ('./files/S005/S005R09.edf',\n",
       "    ['./files/S005/S005R01.edf', './files/S005/S005R02.edf']),\n",
       "   ('./files/S005/S005R13.edf',\n",
       "    ['./files/S005/S005R01.edf', './files/S005/S005R02.edf'])],\n",
       "  'task4': [('./files/S005/S005R06.edf',\n",
       "    ['./files/S005/S005R01.edf', './files/S005/S005R02.edf']),\n",
       "   ('./files/S005/S005R10.edf',\n",
       "    ['./files/S005/S005R01.edf', './files/S005/S005R02.edf']),\n",
       "   ('./files/S005/S005R14.edf',\n",
       "    ['./files/S005/S005R01.edf', './files/S005/S005R02.edf'])]}}"
      ]
     },
     "execution_count": 5,
     "metadata": {},
     "output_type": "execute_result"
    }
   ],
   "source": [
    "data_dict"
   ]
  },
  {
   "cell_type": "code",
   "execution_count": 6,
   "metadata": {},
   "outputs": [],
   "source": [
    "train_files, test_files = [], []\n",
    "\n",
    "for subject_id, tasks in data_dict.items():\n",
    "    for task, file_list in tasks.items():\n",
    "        if len(file_list) >= 3:\n",
    "            train_files.extend(file_list[:2])\n",
    "            test_files.append(file_list[2])\n",
    "\n",
    "class EEGMotorImageryDataset(Dataset):\n",
    "    def __init__(self, file_list):\n",
    "        self.file_list = file_list\n",
    "        self.data = []\n",
    "        self.labels = []\n",
    "\n",
    "        for file_path, baseline_files in self.file_list:\n",
    "            epochs = load_eeg_data(file_path, baseline_files)\n",
    "            self.data.append(epochs.get_data())\n",
    "            self.labels.append(epochs.events[:, -1])\n",
    "\n",
    "        self.data = np.concatenate(self.data, axis=0).astype(np.float32)\n",
    "        self.labels = np.concatenate(self.labels, axis=0)\n",
    "\n",
    "    def __len__(self):\n",
    "        return len(self.data)\n",
    "\n",
    "    def __getitem__(self, idx):\n",
    "        sample = self.data[idx]\n",
    "        label = self.labels[idx]\n",
    "        sample = sample[np.newaxis, :, :]\n",
    "        return torch.tensor(sample), torch.tensor(label)\n"
   ]
  },
  {
   "cell_type": "code",
   "execution_count": 7,
   "metadata": {},
   "outputs": [
    {
     "name": "stdout",
     "output_type": "stream",
     "text": [
      "Not setting metadata\n",
      "9920 matching events found\n",
      "No baseline correction applied\n"
     ]
    },
    {
     "name": "stderr",
     "output_type": "stream",
     "text": [
      "/var/folders/g7/2jrpz1td1gvfhtddsqp_957c0000gn/T/ipykernel_78718/694232551.py:22: RuntimeWarning: Concatenation of Annotations within Epochs is not supported yet. All annotations will be dropped.\n",
      "  epochs = mne.concatenate_epochs([epochs1, epochs2])\n"
     ]
    },
    {
     "name": "stdout",
     "output_type": "stream",
     "text": [
      "Not setting metadata\n",
      "9920 matching events found\n",
      "No baseline correction applied\n"
     ]
    },
    {
     "name": "stderr",
     "output_type": "stream",
     "text": [
      "/var/folders/g7/2jrpz1td1gvfhtddsqp_957c0000gn/T/ipykernel_78718/694232551.py:22: RuntimeWarning: Concatenation of Annotations within Epochs is not supported yet. All annotations will be dropped.\n",
      "  epochs = mne.concatenate_epochs([epochs1, epochs2])\n"
     ]
    },
    {
     "name": "stdout",
     "output_type": "stream",
     "text": [
      "Not setting metadata\n",
      "9920 matching events found\n",
      "No baseline correction applied\n"
     ]
    },
    {
     "name": "stderr",
     "output_type": "stream",
     "text": [
      "/var/folders/g7/2jrpz1td1gvfhtddsqp_957c0000gn/T/ipykernel_78718/694232551.py:22: RuntimeWarning: Concatenation of Annotations within Epochs is not supported yet. All annotations will be dropped.\n",
      "  epochs = mne.concatenate_epochs([epochs1, epochs2])\n"
     ]
    },
    {
     "name": "stdout",
     "output_type": "stream",
     "text": [
      "Not setting metadata\n",
      "9920 matching events found\n",
      "No baseline correction applied\n"
     ]
    },
    {
     "name": "stderr",
     "output_type": "stream",
     "text": [
      "/var/folders/g7/2jrpz1td1gvfhtddsqp_957c0000gn/T/ipykernel_78718/694232551.py:22: RuntimeWarning: Concatenation of Annotations within Epochs is not supported yet. All annotations will be dropped.\n",
      "  epochs = mne.concatenate_epochs([epochs1, epochs2])\n"
     ]
    },
    {
     "name": "stdout",
     "output_type": "stream",
     "text": [
      "Not setting metadata\n",
      "9920 matching events found\n",
      "No baseline correction applied\n"
     ]
    },
    {
     "name": "stderr",
     "output_type": "stream",
     "text": [
      "/var/folders/g7/2jrpz1td1gvfhtddsqp_957c0000gn/T/ipykernel_78718/694232551.py:22: RuntimeWarning: Concatenation of Annotations within Epochs is not supported yet. All annotations will be dropped.\n",
      "  epochs = mne.concatenate_epochs([epochs1, epochs2])\n"
     ]
    },
    {
     "name": "stdout",
     "output_type": "stream",
     "text": [
      "Not setting metadata\n",
      "9920 matching events found\n",
      "No baseline correction applied\n"
     ]
    },
    {
     "name": "stderr",
     "output_type": "stream",
     "text": [
      "/var/folders/g7/2jrpz1td1gvfhtddsqp_957c0000gn/T/ipykernel_78718/694232551.py:22: RuntimeWarning: Concatenation of Annotations within Epochs is not supported yet. All annotations will be dropped.\n",
      "  epochs = mne.concatenate_epochs([epochs1, epochs2])\n"
     ]
    },
    {
     "name": "stdout",
     "output_type": "stream",
     "text": [
      "Not setting metadata\n",
      "9920 matching events found\n",
      "No baseline correction applied\n"
     ]
    },
    {
     "name": "stderr",
     "output_type": "stream",
     "text": [
      "/var/folders/g7/2jrpz1td1gvfhtddsqp_957c0000gn/T/ipykernel_78718/694232551.py:22: RuntimeWarning: Concatenation of Annotations within Epochs is not supported yet. All annotations will be dropped.\n",
      "  epochs = mne.concatenate_epochs([epochs1, epochs2])\n"
     ]
    },
    {
     "name": "stdout",
     "output_type": "stream",
     "text": [
      "Not setting metadata\n",
      "9920 matching events found\n",
      "No baseline correction applied\n"
     ]
    },
    {
     "name": "stderr",
     "output_type": "stream",
     "text": [
      "/var/folders/g7/2jrpz1td1gvfhtddsqp_957c0000gn/T/ipykernel_78718/694232551.py:22: RuntimeWarning: Concatenation of Annotations within Epochs is not supported yet. All annotations will be dropped.\n",
      "  epochs = mne.concatenate_epochs([epochs1, epochs2])\n"
     ]
    },
    {
     "name": "stdout",
     "output_type": "stream",
     "text": [
      "Not setting metadata\n",
      "9760 matching events found\n",
      "No baseline correction applied\n"
     ]
    },
    {
     "name": "stderr",
     "output_type": "stream",
     "text": [
      "/var/folders/g7/2jrpz1td1gvfhtddsqp_957c0000gn/T/ipykernel_78718/694232551.py:22: RuntimeWarning: Concatenation of Annotations within Epochs is not supported yet. All annotations will be dropped.\n",
      "  epochs = mne.concatenate_epochs([epochs1, epochs2])\n"
     ]
    },
    {
     "name": "stdout",
     "output_type": "stream",
     "text": [
      "Not setting metadata\n",
      "9760 matching events found\n",
      "No baseline correction applied\n"
     ]
    },
    {
     "name": "stderr",
     "output_type": "stream",
     "text": [
      "/var/folders/g7/2jrpz1td1gvfhtddsqp_957c0000gn/T/ipykernel_78718/694232551.py:22: RuntimeWarning: Concatenation of Annotations within Epochs is not supported yet. All annotations will be dropped.\n",
      "  epochs = mne.concatenate_epochs([epochs1, epochs2])\n"
     ]
    },
    {
     "name": "stdout",
     "output_type": "stream",
     "text": [
      "Not setting metadata\n",
      "9760 matching events found\n",
      "No baseline correction applied\n"
     ]
    },
    {
     "name": "stderr",
     "output_type": "stream",
     "text": [
      "/var/folders/g7/2jrpz1td1gvfhtddsqp_957c0000gn/T/ipykernel_78718/694232551.py:22: RuntimeWarning: Concatenation of Annotations within Epochs is not supported yet. All annotations will be dropped.\n",
      "  epochs = mne.concatenate_epochs([epochs1, epochs2])\n"
     ]
    },
    {
     "name": "stdout",
     "output_type": "stream",
     "text": [
      "Not setting metadata\n",
      "9760 matching events found\n",
      "No baseline correction applied\n"
     ]
    },
    {
     "name": "stderr",
     "output_type": "stream",
     "text": [
      "/var/folders/g7/2jrpz1td1gvfhtddsqp_957c0000gn/T/ipykernel_78718/694232551.py:22: RuntimeWarning: Concatenation of Annotations within Epochs is not supported yet. All annotations will be dropped.\n",
      "  epochs = mne.concatenate_epochs([epochs1, epochs2])\n"
     ]
    },
    {
     "name": "stdout",
     "output_type": "stream",
     "text": [
      "Not setting metadata\n",
      "9760 matching events found\n",
      "No baseline correction applied\n"
     ]
    },
    {
     "name": "stderr",
     "output_type": "stream",
     "text": [
      "/var/folders/g7/2jrpz1td1gvfhtddsqp_957c0000gn/T/ipykernel_78718/694232551.py:22: RuntimeWarning: Concatenation of Annotations within Epochs is not supported yet. All annotations will be dropped.\n",
      "  epochs = mne.concatenate_epochs([epochs1, epochs2])\n"
     ]
    },
    {
     "name": "stdout",
     "output_type": "stream",
     "text": [
      "Not setting metadata\n",
      "9760 matching events found\n",
      "No baseline correction applied\n"
     ]
    },
    {
     "name": "stderr",
     "output_type": "stream",
     "text": [
      "/var/folders/g7/2jrpz1td1gvfhtddsqp_957c0000gn/T/ipykernel_78718/694232551.py:22: RuntimeWarning: Concatenation of Annotations within Epochs is not supported yet. All annotations will be dropped.\n",
      "  epochs = mne.concatenate_epochs([epochs1, epochs2])\n"
     ]
    },
    {
     "name": "stdout",
     "output_type": "stream",
     "text": [
      "Not setting metadata\n",
      "9760 matching events found\n",
      "No baseline correction applied\n"
     ]
    },
    {
     "name": "stderr",
     "output_type": "stream",
     "text": [
      "/var/folders/g7/2jrpz1td1gvfhtddsqp_957c0000gn/T/ipykernel_78718/694232551.py:22: RuntimeWarning: Concatenation of Annotations within Epochs is not supported yet. All annotations will be dropped.\n",
      "  epochs = mne.concatenate_epochs([epochs1, epochs2])\n"
     ]
    },
    {
     "name": "stdout",
     "output_type": "stream",
     "text": [
      "Not setting metadata\n",
      "9760 matching events found\n",
      "No baseline correction applied\n"
     ]
    },
    {
     "name": "stderr",
     "output_type": "stream",
     "text": [
      "/var/folders/g7/2jrpz1td1gvfhtddsqp_957c0000gn/T/ipykernel_78718/694232551.py:22: RuntimeWarning: Concatenation of Annotations within Epochs is not supported yet. All annotations will be dropped.\n",
      "  epochs = mne.concatenate_epochs([epochs1, epochs2])\n"
     ]
    },
    {
     "name": "stdout",
     "output_type": "stream",
     "text": [
      "Not setting metadata\n",
      "9920 matching events found\n",
      "No baseline correction applied\n"
     ]
    },
    {
     "name": "stderr",
     "output_type": "stream",
     "text": [
      "/var/folders/g7/2jrpz1td1gvfhtddsqp_957c0000gn/T/ipykernel_78718/694232551.py:22: RuntimeWarning: Concatenation of Annotations within Epochs is not supported yet. All annotations will be dropped.\n",
      "  epochs = mne.concatenate_epochs([epochs1, epochs2])\n"
     ]
    },
    {
     "name": "stdout",
     "output_type": "stream",
     "text": [
      "Not setting metadata\n",
      "9920 matching events found\n",
      "No baseline correction applied\n"
     ]
    },
    {
     "name": "stderr",
     "output_type": "stream",
     "text": [
      "/var/folders/g7/2jrpz1td1gvfhtddsqp_957c0000gn/T/ipykernel_78718/694232551.py:22: RuntimeWarning: Concatenation of Annotations within Epochs is not supported yet. All annotations will be dropped.\n",
      "  epochs = mne.concatenate_epochs([epochs1, epochs2])\n"
     ]
    },
    {
     "name": "stdout",
     "output_type": "stream",
     "text": [
      "Not setting metadata\n",
      "9920 matching events found\n",
      "No baseline correction applied\n"
     ]
    },
    {
     "name": "stderr",
     "output_type": "stream",
     "text": [
      "/var/folders/g7/2jrpz1td1gvfhtddsqp_957c0000gn/T/ipykernel_78718/694232551.py:22: RuntimeWarning: Concatenation of Annotations within Epochs is not supported yet. All annotations will be dropped.\n",
      "  epochs = mne.concatenate_epochs([epochs1, epochs2])\n"
     ]
    },
    {
     "name": "stdout",
     "output_type": "stream",
     "text": [
      "Not setting metadata\n",
      "9920 matching events found\n",
      "No baseline correction applied\n"
     ]
    },
    {
     "name": "stderr",
     "output_type": "stream",
     "text": [
      "/var/folders/g7/2jrpz1td1gvfhtddsqp_957c0000gn/T/ipykernel_78718/694232551.py:22: RuntimeWarning: Concatenation of Annotations within Epochs is not supported yet. All annotations will be dropped.\n",
      "  epochs = mne.concatenate_epochs([epochs1, epochs2])\n"
     ]
    },
    {
     "name": "stdout",
     "output_type": "stream",
     "text": [
      "Not setting metadata\n",
      "9920 matching events found\n",
      "No baseline correction applied\n"
     ]
    },
    {
     "name": "stderr",
     "output_type": "stream",
     "text": [
      "/var/folders/g7/2jrpz1td1gvfhtddsqp_957c0000gn/T/ipykernel_78718/694232551.py:22: RuntimeWarning: Concatenation of Annotations within Epochs is not supported yet. All annotations will be dropped.\n",
      "  epochs = mne.concatenate_epochs([epochs1, epochs2])\n"
     ]
    },
    {
     "name": "stdout",
     "output_type": "stream",
     "text": [
      "Not setting metadata\n",
      "9920 matching events found\n",
      "No baseline correction applied\n"
     ]
    },
    {
     "name": "stderr",
     "output_type": "stream",
     "text": [
      "/var/folders/g7/2jrpz1td1gvfhtddsqp_957c0000gn/T/ipykernel_78718/694232551.py:22: RuntimeWarning: Concatenation of Annotations within Epochs is not supported yet. All annotations will be dropped.\n",
      "  epochs = mne.concatenate_epochs([epochs1, epochs2])\n"
     ]
    },
    {
     "name": "stdout",
     "output_type": "stream",
     "text": [
      "Not setting metadata\n",
      "9920 matching events found\n",
      "No baseline correction applied\n"
     ]
    },
    {
     "name": "stderr",
     "output_type": "stream",
     "text": [
      "/var/folders/g7/2jrpz1td1gvfhtddsqp_957c0000gn/T/ipykernel_78718/694232551.py:22: RuntimeWarning: Concatenation of Annotations within Epochs is not supported yet. All annotations will be dropped.\n",
      "  epochs = mne.concatenate_epochs([epochs1, epochs2])\n"
     ]
    },
    {
     "name": "stdout",
     "output_type": "stream",
     "text": [
      "Not setting metadata\n",
      "9920 matching events found\n",
      "No baseline correction applied\n"
     ]
    },
    {
     "name": "stderr",
     "output_type": "stream",
     "text": [
      "/var/folders/g7/2jrpz1td1gvfhtddsqp_957c0000gn/T/ipykernel_78718/694232551.py:22: RuntimeWarning: Concatenation of Annotations within Epochs is not supported yet. All annotations will be dropped.\n",
      "  epochs = mne.concatenate_epochs([epochs1, epochs2])\n"
     ]
    },
    {
     "name": "stdout",
     "output_type": "stream",
     "text": [
      "Not setting metadata\n",
      "9760 matching events found\n",
      "No baseline correction applied\n"
     ]
    },
    {
     "name": "stderr",
     "output_type": "stream",
     "text": [
      "/var/folders/g7/2jrpz1td1gvfhtddsqp_957c0000gn/T/ipykernel_78718/694232551.py:22: RuntimeWarning: Concatenation of Annotations within Epochs is not supported yet. All annotations will be dropped.\n",
      "  epochs = mne.concatenate_epochs([epochs1, epochs2])\n"
     ]
    },
    {
     "name": "stdout",
     "output_type": "stream",
     "text": [
      "Not setting metadata\n",
      "9760 matching events found\n",
      "No baseline correction applied\n"
     ]
    },
    {
     "name": "stderr",
     "output_type": "stream",
     "text": [
      "/var/folders/g7/2jrpz1td1gvfhtddsqp_957c0000gn/T/ipykernel_78718/694232551.py:22: RuntimeWarning: Concatenation of Annotations within Epochs is not supported yet. All annotations will be dropped.\n",
      "  epochs = mne.concatenate_epochs([epochs1, epochs2])\n"
     ]
    },
    {
     "name": "stdout",
     "output_type": "stream",
     "text": [
      "Not setting metadata\n",
      "9760 matching events found\n",
      "No baseline correction applied\n"
     ]
    },
    {
     "name": "stderr",
     "output_type": "stream",
     "text": [
      "/var/folders/g7/2jrpz1td1gvfhtddsqp_957c0000gn/T/ipykernel_78718/694232551.py:22: RuntimeWarning: Concatenation of Annotations within Epochs is not supported yet. All annotations will be dropped.\n",
      "  epochs = mne.concatenate_epochs([epochs1, epochs2])\n"
     ]
    },
    {
     "name": "stdout",
     "output_type": "stream",
     "text": [
      "Not setting metadata\n",
      "9760 matching events found\n",
      "No baseline correction applied\n"
     ]
    },
    {
     "name": "stderr",
     "output_type": "stream",
     "text": [
      "/var/folders/g7/2jrpz1td1gvfhtddsqp_957c0000gn/T/ipykernel_78718/694232551.py:22: RuntimeWarning: Concatenation of Annotations within Epochs is not supported yet. All annotations will be dropped.\n",
      "  epochs = mne.concatenate_epochs([epochs1, epochs2])\n"
     ]
    },
    {
     "name": "stdout",
     "output_type": "stream",
     "text": [
      "Not setting metadata\n",
      "9760 matching events found\n",
      "No baseline correction applied\n"
     ]
    },
    {
     "name": "stderr",
     "output_type": "stream",
     "text": [
      "/var/folders/g7/2jrpz1td1gvfhtddsqp_957c0000gn/T/ipykernel_78718/694232551.py:22: RuntimeWarning: Concatenation of Annotations within Epochs is not supported yet. All annotations will be dropped.\n",
      "  epochs = mne.concatenate_epochs([epochs1, epochs2])\n"
     ]
    },
    {
     "name": "stdout",
     "output_type": "stream",
     "text": [
      "Not setting metadata\n",
      "9760 matching events found\n",
      "No baseline correction applied\n"
     ]
    },
    {
     "name": "stderr",
     "output_type": "stream",
     "text": [
      "/var/folders/g7/2jrpz1td1gvfhtddsqp_957c0000gn/T/ipykernel_78718/694232551.py:22: RuntimeWarning: Concatenation of Annotations within Epochs is not supported yet. All annotations will be dropped.\n",
      "  epochs = mne.concatenate_epochs([epochs1, epochs2])\n"
     ]
    },
    {
     "name": "stdout",
     "output_type": "stream",
     "text": [
      "Not setting metadata\n",
      "9760 matching events found\n",
      "No baseline correction applied\n"
     ]
    },
    {
     "name": "stderr",
     "output_type": "stream",
     "text": [
      "/var/folders/g7/2jrpz1td1gvfhtddsqp_957c0000gn/T/ipykernel_78718/694232551.py:22: RuntimeWarning: Concatenation of Annotations within Epochs is not supported yet. All annotations will be dropped.\n",
      "  epochs = mne.concatenate_epochs([epochs1, epochs2])\n"
     ]
    },
    {
     "name": "stdout",
     "output_type": "stream",
     "text": [
      "Not setting metadata\n",
      "9760 matching events found\n",
      "No baseline correction applied\n"
     ]
    },
    {
     "name": "stderr",
     "output_type": "stream",
     "text": [
      "/var/folders/g7/2jrpz1td1gvfhtddsqp_957c0000gn/T/ipykernel_78718/694232551.py:22: RuntimeWarning: Concatenation of Annotations within Epochs is not supported yet. All annotations will be dropped.\n",
      "  epochs = mne.concatenate_epochs([epochs1, epochs2])\n"
     ]
    },
    {
     "name": "stdout",
     "output_type": "stream",
     "text": [
      "Not setting metadata\n",
      "9760 matching events found\n",
      "No baseline correction applied\n"
     ]
    },
    {
     "name": "stderr",
     "output_type": "stream",
     "text": [
      "/var/folders/g7/2jrpz1td1gvfhtddsqp_957c0000gn/T/ipykernel_78718/694232551.py:22: RuntimeWarning: Concatenation of Annotations within Epochs is not supported yet. All annotations will be dropped.\n",
      "  epochs = mne.concatenate_epochs([epochs1, epochs2])\n"
     ]
    },
    {
     "name": "stdout",
     "output_type": "stream",
     "text": [
      "Not setting metadata\n",
      "9760 matching events found\n",
      "No baseline correction applied\n"
     ]
    },
    {
     "name": "stderr",
     "output_type": "stream",
     "text": [
      "/var/folders/g7/2jrpz1td1gvfhtddsqp_957c0000gn/T/ipykernel_78718/694232551.py:22: RuntimeWarning: Concatenation of Annotations within Epochs is not supported yet. All annotations will be dropped.\n",
      "  epochs = mne.concatenate_epochs([epochs1, epochs2])\n"
     ]
    },
    {
     "name": "stdout",
     "output_type": "stream",
     "text": [
      "Not setting metadata\n",
      "9760 matching events found\n",
      "No baseline correction applied\n"
     ]
    },
    {
     "name": "stderr",
     "output_type": "stream",
     "text": [
      "/var/folders/g7/2jrpz1td1gvfhtddsqp_957c0000gn/T/ipykernel_78718/694232551.py:22: RuntimeWarning: Concatenation of Annotations within Epochs is not supported yet. All annotations will be dropped.\n",
      "  epochs = mne.concatenate_epochs([epochs1, epochs2])\n"
     ]
    },
    {
     "name": "stdout",
     "output_type": "stream",
     "text": [
      "Not setting metadata\n",
      "9760 matching events found\n",
      "No baseline correction applied\n"
     ]
    },
    {
     "name": "stderr",
     "output_type": "stream",
     "text": [
      "/var/folders/g7/2jrpz1td1gvfhtddsqp_957c0000gn/T/ipykernel_78718/694232551.py:22: RuntimeWarning: Concatenation of Annotations within Epochs is not supported yet. All annotations will be dropped.\n",
      "  epochs = mne.concatenate_epochs([epochs1, epochs2])\n"
     ]
    },
    {
     "name": "stdout",
     "output_type": "stream",
     "text": [
      "Not setting metadata\n",
      "9760 matching events found\n",
      "No baseline correction applied\n"
     ]
    },
    {
     "name": "stderr",
     "output_type": "stream",
     "text": [
      "/var/folders/g7/2jrpz1td1gvfhtddsqp_957c0000gn/T/ipykernel_78718/694232551.py:22: RuntimeWarning: Concatenation of Annotations within Epochs is not supported yet. All annotations will be dropped.\n",
      "  epochs = mne.concatenate_epochs([epochs1, epochs2])\n"
     ]
    },
    {
     "name": "stdout",
     "output_type": "stream",
     "text": [
      "Not setting metadata\n",
      "9760 matching events found\n",
      "No baseline correction applied\n"
     ]
    },
    {
     "name": "stderr",
     "output_type": "stream",
     "text": [
      "/var/folders/g7/2jrpz1td1gvfhtddsqp_957c0000gn/T/ipykernel_78718/694232551.py:22: RuntimeWarning: Concatenation of Annotations within Epochs is not supported yet. All annotations will be dropped.\n",
      "  epochs = mne.concatenate_epochs([epochs1, epochs2])\n"
     ]
    },
    {
     "name": "stdout",
     "output_type": "stream",
     "text": [
      "Not setting metadata\n",
      "9760 matching events found\n",
      "No baseline correction applied\n"
     ]
    },
    {
     "name": "stderr",
     "output_type": "stream",
     "text": [
      "/var/folders/g7/2jrpz1td1gvfhtddsqp_957c0000gn/T/ipykernel_78718/694232551.py:22: RuntimeWarning: Concatenation of Annotations within Epochs is not supported yet. All annotations will be dropped.\n",
      "  epochs = mne.concatenate_epochs([epochs1, epochs2])\n"
     ]
    },
    {
     "name": "stdout",
     "output_type": "stream",
     "text": [
      "Not setting metadata\n",
      "9760 matching events found\n",
      "No baseline correction applied\n"
     ]
    },
    {
     "name": "stderr",
     "output_type": "stream",
     "text": [
      "/var/folders/g7/2jrpz1td1gvfhtddsqp_957c0000gn/T/ipykernel_78718/694232551.py:22: RuntimeWarning: Concatenation of Annotations within Epochs is not supported yet. All annotations will be dropped.\n",
      "  epochs = mne.concatenate_epochs([epochs1, epochs2])\n"
     ]
    },
    {
     "name": "stdout",
     "output_type": "stream",
     "text": [
      "Not setting metadata\n",
      "9920 matching events found\n",
      "No baseline correction applied\n"
     ]
    },
    {
     "name": "stderr",
     "output_type": "stream",
     "text": [
      "/var/folders/g7/2jrpz1td1gvfhtddsqp_957c0000gn/T/ipykernel_78718/694232551.py:22: RuntimeWarning: Concatenation of Annotations within Epochs is not supported yet. All annotations will be dropped.\n",
      "  epochs = mne.concatenate_epochs([epochs1, epochs2])\n"
     ]
    },
    {
     "name": "stdout",
     "output_type": "stream",
     "text": [
      "Not setting metadata\n",
      "9920 matching events found\n",
      "No baseline correction applied\n"
     ]
    },
    {
     "name": "stderr",
     "output_type": "stream",
     "text": [
      "/var/folders/g7/2jrpz1td1gvfhtddsqp_957c0000gn/T/ipykernel_78718/694232551.py:22: RuntimeWarning: Concatenation of Annotations within Epochs is not supported yet. All annotations will be dropped.\n",
      "  epochs = mne.concatenate_epochs([epochs1, epochs2])\n"
     ]
    },
    {
     "name": "stdout",
     "output_type": "stream",
     "text": [
      "Not setting metadata\n",
      "9920 matching events found\n",
      "No baseline correction applied\n"
     ]
    },
    {
     "name": "stderr",
     "output_type": "stream",
     "text": [
      "/var/folders/g7/2jrpz1td1gvfhtddsqp_957c0000gn/T/ipykernel_78718/694232551.py:22: RuntimeWarning: Concatenation of Annotations within Epochs is not supported yet. All annotations will be dropped.\n",
      "  epochs = mne.concatenate_epochs([epochs1, epochs2])\n"
     ]
    },
    {
     "name": "stdout",
     "output_type": "stream",
     "text": [
      "Not setting metadata\n",
      "9920 matching events found\n",
      "No baseline correction applied\n"
     ]
    },
    {
     "name": "stderr",
     "output_type": "stream",
     "text": [
      "/var/folders/g7/2jrpz1td1gvfhtddsqp_957c0000gn/T/ipykernel_78718/694232551.py:22: RuntimeWarning: Concatenation of Annotations within Epochs is not supported yet. All annotations will be dropped.\n",
      "  epochs = mne.concatenate_epochs([epochs1, epochs2])\n"
     ]
    },
    {
     "name": "stdout",
     "output_type": "stream",
     "text": [
      "Not setting metadata\n",
      "9760 matching events found\n",
      "No baseline correction applied\n"
     ]
    },
    {
     "name": "stderr",
     "output_type": "stream",
     "text": [
      "/var/folders/g7/2jrpz1td1gvfhtddsqp_957c0000gn/T/ipykernel_78718/694232551.py:22: RuntimeWarning: Concatenation of Annotations within Epochs is not supported yet. All annotations will be dropped.\n",
      "  epochs = mne.concatenate_epochs([epochs1, epochs2])\n"
     ]
    },
    {
     "name": "stdout",
     "output_type": "stream",
     "text": [
      "Not setting metadata\n",
      "9760 matching events found\n",
      "No baseline correction applied\n"
     ]
    },
    {
     "name": "stderr",
     "output_type": "stream",
     "text": [
      "/var/folders/g7/2jrpz1td1gvfhtddsqp_957c0000gn/T/ipykernel_78718/694232551.py:22: RuntimeWarning: Concatenation of Annotations within Epochs is not supported yet. All annotations will be dropped.\n",
      "  epochs = mne.concatenate_epochs([epochs1, epochs2])\n"
     ]
    },
    {
     "name": "stdout",
     "output_type": "stream",
     "text": [
      "Not setting metadata\n",
      "9760 matching events found\n",
      "No baseline correction applied\n"
     ]
    },
    {
     "name": "stderr",
     "output_type": "stream",
     "text": [
      "/var/folders/g7/2jrpz1td1gvfhtddsqp_957c0000gn/T/ipykernel_78718/694232551.py:22: RuntimeWarning: Concatenation of Annotations within Epochs is not supported yet. All annotations will be dropped.\n",
      "  epochs = mne.concatenate_epochs([epochs1, epochs2])\n"
     ]
    },
    {
     "name": "stdout",
     "output_type": "stream",
     "text": [
      "Not setting metadata\n",
      "9760 matching events found\n",
      "No baseline correction applied\n"
     ]
    },
    {
     "name": "stderr",
     "output_type": "stream",
     "text": [
      "/var/folders/g7/2jrpz1td1gvfhtddsqp_957c0000gn/T/ipykernel_78718/694232551.py:22: RuntimeWarning: Concatenation of Annotations within Epochs is not supported yet. All annotations will be dropped.\n",
      "  epochs = mne.concatenate_epochs([epochs1, epochs2])\n"
     ]
    },
    {
     "name": "stdout",
     "output_type": "stream",
     "text": [
      "Not setting metadata\n",
      "9920 matching events found\n",
      "No baseline correction applied\n"
     ]
    },
    {
     "name": "stderr",
     "output_type": "stream",
     "text": [
      "/var/folders/g7/2jrpz1td1gvfhtddsqp_957c0000gn/T/ipykernel_78718/694232551.py:22: RuntimeWarning: Concatenation of Annotations within Epochs is not supported yet. All annotations will be dropped.\n",
      "  epochs = mne.concatenate_epochs([epochs1, epochs2])\n"
     ]
    },
    {
     "name": "stdout",
     "output_type": "stream",
     "text": [
      "Not setting metadata\n",
      "9920 matching events found\n",
      "No baseline correction applied\n"
     ]
    },
    {
     "name": "stderr",
     "output_type": "stream",
     "text": [
      "/var/folders/g7/2jrpz1td1gvfhtddsqp_957c0000gn/T/ipykernel_78718/694232551.py:22: RuntimeWarning: Concatenation of Annotations within Epochs is not supported yet. All annotations will be dropped.\n",
      "  epochs = mne.concatenate_epochs([epochs1, epochs2])\n"
     ]
    },
    {
     "name": "stdout",
     "output_type": "stream",
     "text": [
      "Not setting metadata\n",
      "9920 matching events found\n",
      "No baseline correction applied\n"
     ]
    },
    {
     "name": "stderr",
     "output_type": "stream",
     "text": [
      "/var/folders/g7/2jrpz1td1gvfhtddsqp_957c0000gn/T/ipykernel_78718/694232551.py:22: RuntimeWarning: Concatenation of Annotations within Epochs is not supported yet. All annotations will be dropped.\n",
      "  epochs = mne.concatenate_epochs([epochs1, epochs2])\n"
     ]
    },
    {
     "name": "stdout",
     "output_type": "stream",
     "text": [
      "Not setting metadata\n",
      "9920 matching events found\n",
      "No baseline correction applied\n"
     ]
    },
    {
     "name": "stderr",
     "output_type": "stream",
     "text": [
      "/var/folders/g7/2jrpz1td1gvfhtddsqp_957c0000gn/T/ipykernel_78718/694232551.py:22: RuntimeWarning: Concatenation of Annotations within Epochs is not supported yet. All annotations will be dropped.\n",
      "  epochs = mne.concatenate_epochs([epochs1, epochs2])\n"
     ]
    },
    {
     "name": "stdout",
     "output_type": "stream",
     "text": [
      "Not setting metadata\n",
      "9760 matching events found\n",
      "No baseline correction applied\n"
     ]
    },
    {
     "name": "stderr",
     "output_type": "stream",
     "text": [
      "/var/folders/g7/2jrpz1td1gvfhtddsqp_957c0000gn/T/ipykernel_78718/694232551.py:22: RuntimeWarning: Concatenation of Annotations within Epochs is not supported yet. All annotations will be dropped.\n",
      "  epochs = mne.concatenate_epochs([epochs1, epochs2])\n"
     ]
    },
    {
     "name": "stdout",
     "output_type": "stream",
     "text": [
      "Not setting metadata\n",
      "9760 matching events found\n",
      "No baseline correction applied\n"
     ]
    },
    {
     "name": "stderr",
     "output_type": "stream",
     "text": [
      "/var/folders/g7/2jrpz1td1gvfhtddsqp_957c0000gn/T/ipykernel_78718/694232551.py:22: RuntimeWarning: Concatenation of Annotations within Epochs is not supported yet. All annotations will be dropped.\n",
      "  epochs = mne.concatenate_epochs([epochs1, epochs2])\n"
     ]
    },
    {
     "name": "stdout",
     "output_type": "stream",
     "text": [
      "Not setting metadata\n",
      "9760 matching events found\n",
      "No baseline correction applied\n"
     ]
    },
    {
     "name": "stderr",
     "output_type": "stream",
     "text": [
      "/var/folders/g7/2jrpz1td1gvfhtddsqp_957c0000gn/T/ipykernel_78718/694232551.py:22: RuntimeWarning: Concatenation of Annotations within Epochs is not supported yet. All annotations will be dropped.\n",
      "  epochs = mne.concatenate_epochs([epochs1, epochs2])\n"
     ]
    },
    {
     "name": "stdout",
     "output_type": "stream",
     "text": [
      "Not setting metadata\n",
      "9760 matching events found\n",
      "No baseline correction applied\n"
     ]
    },
    {
     "name": "stderr",
     "output_type": "stream",
     "text": [
      "/var/folders/g7/2jrpz1td1gvfhtddsqp_957c0000gn/T/ipykernel_78718/694232551.py:22: RuntimeWarning: Concatenation of Annotations within Epochs is not supported yet. All annotations will be dropped.\n",
      "  epochs = mne.concatenate_epochs([epochs1, epochs2])\n"
     ]
    },
    {
     "name": "stdout",
     "output_type": "stream",
     "text": [
      "Not setting metadata\n",
      "9760 matching events found\n",
      "No baseline correction applied\n"
     ]
    },
    {
     "name": "stderr",
     "output_type": "stream",
     "text": [
      "/var/folders/g7/2jrpz1td1gvfhtddsqp_957c0000gn/T/ipykernel_78718/694232551.py:22: RuntimeWarning: Concatenation of Annotations within Epochs is not supported yet. All annotations will be dropped.\n",
      "  epochs = mne.concatenate_epochs([epochs1, epochs2])\n"
     ]
    },
    {
     "name": "stdout",
     "output_type": "stream",
     "text": [
      "Not setting metadata\n",
      "9760 matching events found\n",
      "No baseline correction applied\n"
     ]
    },
    {
     "name": "stderr",
     "output_type": "stream",
     "text": [
      "/var/folders/g7/2jrpz1td1gvfhtddsqp_957c0000gn/T/ipykernel_78718/694232551.py:22: RuntimeWarning: Concatenation of Annotations within Epochs is not supported yet. All annotations will be dropped.\n",
      "  epochs = mne.concatenate_epochs([epochs1, epochs2])\n"
     ]
    },
    {
     "name": "stdout",
     "output_type": "stream",
     "text": [
      "Not setting metadata\n",
      "9760 matching events found\n",
      "No baseline correction applied\n"
     ]
    },
    {
     "name": "stderr",
     "output_type": "stream",
     "text": [
      "/var/folders/g7/2jrpz1td1gvfhtddsqp_957c0000gn/T/ipykernel_78718/694232551.py:22: RuntimeWarning: Concatenation of Annotations within Epochs is not supported yet. All annotations will be dropped.\n",
      "  epochs = mne.concatenate_epochs([epochs1, epochs2])\n"
     ]
    },
    {
     "name": "stdout",
     "output_type": "stream",
     "text": [
      "Not setting metadata\n",
      "9760 matching events found\n",
      "No baseline correction applied\n"
     ]
    },
    {
     "name": "stderr",
     "output_type": "stream",
     "text": [
      "/var/folders/g7/2jrpz1td1gvfhtddsqp_957c0000gn/T/ipykernel_78718/694232551.py:22: RuntimeWarning: Concatenation of Annotations within Epochs is not supported yet. All annotations will be dropped.\n",
      "  epochs = mne.concatenate_epochs([epochs1, epochs2])\n"
     ]
    }
   ],
   "source": [
    "train_dataset = EEGMotorImageryDataset(train_files)\n",
    "test_dataset = EEGMotorImageryDataset(test_files)\n",
    "\n",
    "batch_size = 8\n",
    "train_loader = DataLoader(train_dataset, batch_size=batch_size, shuffle=True)\n",
    "test_loader = DataLoader(test_dataset, batch_size=batch_size, shuffle=False)"
   ]
  },
  {
   "cell_type": "code",
   "execution_count": 29,
   "metadata": {},
   "outputs": [],
   "source": [
    "class EEGNet(nn.Module):\n",
    "    def __init__(self):\n",
    "        super(EEGNet, self).__init__()\n",
    "        self.conv1 = nn.Conv2d(1, 16, kernel_size=(1, 64), padding=(0, 32))\n",
    "        self.bn1 = nn.BatchNorm2d(16)\n",
    "        self.conv2 = nn.Conv2d(16, 32, kernel_size=(1, 32), groups=16)\n",
    "        self.bn2 = nn.BatchNorm2d(32)\n",
    "        self.pool1 = nn.AvgPool2d((1, 8))\n",
    "        self.dropout1 = nn.Dropout(0.5)\n",
    "        self.conv3 = nn.Conv2d(32, 64, kernel_size=(1, 16), padding=(0, 8))\n",
    "        self.bn3 = nn.BatchNorm2d(64)\n",
    "        self.pool2 = nn.AvgPool2d((1, 4))\n",
    "        self.flatten = nn.Flatten()\n",
    "        self.fc = None\n",
    "\n",
    "    def forward(self, x):\n",
    "        x = self.conv1(x)\n",
    "        x = self.bn1(x)\n",
    "        x = self.conv2(x)\n",
    "        x = self.bn2(x)\n",
    "        x = self.pool1(x)\n",
    "        x = self.dropout1(x)\n",
    "        x = self.conv3(x)\n",
    "        x = self.bn3(x)\n",
    "        x = self.pool2(x)\n",
    "        x = self.flatten(x)\n",
    "\n",
    "        if self.fc is None:\n",
    "            feature_dim = x.shape[1]\n",
    "            self.fc = nn.Linear(feature_dim, 4).to(x.device)\n",
    "\n",
    "        x = self.fc(x)\n",
    "\n",
    "        return x"
   ]
  },
  {
   "cell_type": "code",
   "execution_count": null,
   "metadata": {},
   "outputs": [],
   "source": [
    "model = EEGNet().to(device)\n",
    "optimizer = torch.optim.Adam(model.parameters(), lr=1e-3)\n",
    "loss_fn = nn.CrossEntropyLoss()\n",
    "\n",
    "num_epochs = 5\n",
    "for epoch in range(num_epochs):\n",
    "    model.train()\n",
    "    running_loss = 0.0\n",
    "    for x, y in train_loader:\n",
    "        x, y = x.to(device), y.to(device)\n",
    "        optimizer.zero_grad()\n",
    "        outputs = model(x)\n",
    "        loss = loss_fn(outputs, y)\n",
    "        loss.backward()\n",
    "        optimizer.step()\n",
    "        running_loss += loss.item()\n",
    "\n",
    "    model.eval()\n",
    "    correct = 0\n",
    "    total = 0\n",
    "    with torch.no_grad():\n",
    "        for x, y in test_loader:\n",
    "            x, y = x.to(device), y.to(device)\n",
    "            outputs = model(x)\n",
    "            _, predicted = torch.max(outputs, 1)\n",
    "            correct += (predicted == y).sum().item()\n",
    "            total += y.size(0)\n",
    "    \n",
    "    print(f\"Epoch {epoch+1}/{num_epochs} | Loss: {running_loss / len(train_loader)} | Test Accuracy: {100 * correct / total:.2f}%\")\n",
    "\n"
   ]
  },
  {
   "cell_type": "code",
   "execution_count": null,
   "metadata": {},
   "outputs": [],
   "source": []
  }
 ],
 "metadata": {
  "kernelspec": {
   "display_name": "base",
   "language": "python",
   "name": "python3"
  },
  "language_info": {
   "codemirror_mode": {
    "name": "ipython",
    "version": 3
   },
   "file_extension": ".py",
   "mimetype": "text/x-python",
   "name": "python",
   "nbconvert_exporter": "python",
   "pygments_lexer": "ipython3",
   "version": "3.12.2"
  }
 },
 "nbformat": 4,
 "nbformat_minor": 2
}
